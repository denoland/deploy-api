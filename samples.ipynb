{
 "cells": [
  {
   "cell_type": "markdown",
   "metadata": {},
   "source": [
    "# Setup\n",
    "\n",
    "In order to call the API you'll need to get two things from the [Deploy dashboard](https://dash.deno.com/):\n",
    "  * Your organization ID\n",
    "  * A personal or organizational access token"
   ]
  },
  {
   "cell_type": "code",
   "execution_count": 1,
   "metadata": {},
   "outputs": [
    {
     "data": {},
     "execution_count": 1,
     "metadata": {},
     "output_type": "execute_result"
    }
   ],
   "source": [
    "import { assert } from \"https://deno.land/std@0.202.0/testing/asserts.ts\";\n",
    "\n",
    "// Replace these with your own!\n",
    "const organizationId = \"a75a9caa-b8ac-47b3-a423-3f2077c58731\";\n",
    "const token = \"ddo_u7mo08lBNHm8GMGLhtrEVfcgBsCuSp36dumX\";"
   ]
  },
  {
   "cell_type": "markdown",
   "metadata": {},
   "source": [
    "# Create a project\n",
    "\n",
    "In order to create deployments, you first need to create a project to host them.\n",
    "\n",
    "The project name is used to derive deployments URLs from. You may specify one;\n",
    "if you don't, a random project name will be assigned automatically."
   ]
  },
  {
   "cell_type": "code",
   "execution_count": 1,
   "metadata": {},
   "outputs": [
    {
     "data": {},
     "execution_count": 1,
     "metadata": {},
     "output_type": "execute_result"
    },
    {
     "name": "stdout",
     "output_type": "stream",
     "text": [
      "{\n",
      "  id: \"d798575b-b81b-40b8-b87c-184b382e2b9e\",\n",
      "  name: \"sad-rhino-75\",\n",
      "  createdAt: \"2023-09-22T05:38:34.550090Z\",\n",
      "  updatedAt: \"2023-09-22T05:38:34.550090Z\"\n",
      "}\n"
     ]
    }
   ],
   "source": [
    "const res = await fetch(\n",
    "  `https://api.deno.com/v1/organizations/${organizationId}/projects`,\n",
    "  {\n",
    "    method: \"POST\",\n",
    "    headers: {\n",
    "      authorization: `Bearer ${token}`,\n",
    "      \"content-type\": \"application/json\",\n",
    "    },\n",
    "    body: JSON.stringify(\n",
    "      {\n",
    "        name: null\n",
    "      } satisfies CreateProjectRequest\n",
    "    ),\n",
    "  },\n",
    ");\n",
    "assert(res.ok);\n",
    "\n",
    "const project = await res.json();\n",
    "console.log(project);"
   ]
  },
  {
   "cell_type": "markdown",
   "metadata": {},
   "source": [
    "# Create a deployment\n",
    "\n",
    "A typical flow for creating a deployment is described in this section.\n",
    "\n",
    "### 1. Initiate a build\n",
    "\n",
    "To initiate a build, you have call the API and provide (at a minimum):\n",
    "  * One or more source files\n",
    "  * The (relative) URL to the entry point source file\n",
    "  * A set of environment variables"
   ]
  },
  {
   "cell_type": "code",
   "execution_count": 1,
   "metadata": {},
   "outputs": [
    {
     "data": {},
     "execution_count": 1,
     "metadata": {},
     "output_type": "execute_result"
    },
    {
     "name": "stdout",
     "output_type": "stream",
     "text": [
      "{\n",
      "  id: \"rn3mjpwsw24d\",\n",
      "  projectId: \"d798575b-b81b-40b8-b87c-184b382e2b9e\",\n",
      "  status: \"pending\",\n",
      "  createdAt: \"2023-09-22T05:54:38.007146Z\",\n",
      "  updatedAt: \"2023-09-22T05:54:38.007146Z\"\n",
      "}\n"
     ]
    }
   ],
   "source": [
    "const res = await fetch(\n",
    "  `https://api.deno.com/v1/projects/${project.id}/deployments`,\n",
    "  {\n",
    "    method: \"POST\",\n",
    "    headers: {\n",
    "      authorization: `Bearer ${token}`,\n",
    "      \"content-type\": \"application/json\",\n",
    "    },\n",
    "    body: JSON.stringify(\n",
    "      {\n",
    "        \"entryPointUrl\": \"main.ts\",\n",
    "        \"assets\": {\n",
    "          \"main.ts\": {\n",
    "            \"kind\": \"file\",\n",
    "            \"content\":\n",
    "              `import { assert } from \"https://deno.land/std@0.202.0/testing/asserts.ts\";\n",
    "               Deno.serve((req: Request) => new Response('Hello World'));`\n",
    "          }\n",
    "        },\n",
    "        \"envVars\": {\n",
    "          \"FOO\": \"foo\",\n",
    "        },\n",
    "      } satisfies CreateDeploymentRequest,\n",
    "    ),\n",
    "  },\n",
    ");\n",
    "assert(res.ok);\n",
    "\n",
    "const deployment: Deployment = await res.json();\n",
    "console.log(deployment);"
   ]
  },
  {
   "cell_type": "markdown",
   "metadata": {},
   "source": [
    "### 2. Wait for the build to be completed\n",
    "\n",
    "Build of a deployment is an async process. In order to wait for its completion (or failure), you may either:\n",
    "  * Use the `GET /v1/deployments/:deploymentId/build_logs` endpoint. This endpoint will stream build log messages until the build is complete.\n",
    "  * Periodically poll the `GET /v1/deployments/:deploymentId` endpoint until the response `status` field is no longer `pending`.\n"
   ]
  },
  {
   "cell_type": "code",
   "execution_count": 1,
   "metadata": {},
   "outputs": [
    {
     "data": {},
     "execution_count": 1,
     "metadata": {},
     "output_type": "execute_result"
    },
    {
     "name": "stdout",
     "output_type": "stream",
     "text": [
      "[info] Downloaded file:///src/main.ts (1/2)\n",
      "[info] Downloaded https://deno.land/std@0.202.0/testing/asserts.ts (2/3)\n",
      "[info] Downloaded https://deno.land/std@0.202.0/assert/mod.ts (3/30)\n",
      "[info] Downloaded https://deno.land/std@0.202.0/assert/assert_almost_equals.ts (4/30)\n",
      "[info] Downloaded https://deno.land/std@0.202.0/assert/assert_array_includes.ts (5/31)\n",
      "[info] Downloaded https://deno.land/std@0.202.0/assert/assert_equals.ts (6/34)\n",
      "[info] Downloaded https://deno.land/std@0.202.0/assert/assert_exists.ts (7/34)\n",
      "[info] Downloaded https://deno.land/std@0.202.0/assert/assert_false.ts (8/34)\n",
      "[info] Downloaded https://deno.land/std@0.202.0/assert/assert_greater_or_equal.ts (9/34)\n",
      "[info] Downloaded https://deno.land/std@0.202.0/assert/assert_greater.ts (10/34)\n",
      "[info] Downloaded https://deno.land/std@0.202.0/assert/assert_instance_of.ts (11/34)\n",
      "[info] Downloaded https://deno.land/std@0.202.0/assert/assert_is_error.ts (12/34)\n",
      "[info] Downloaded https://deno.land/std@0.202.0/assert/assert_less_or_equal.ts (13/34)\n",
      "[info] Downloaded https://deno.land/std@0.202.0/assert/assert_less.ts (14/34)\n",
      "[info] Downloaded https://deno.land/std@0.202.0/assert/assert_match.ts (15/34)\n",
      "[info] Downloaded https://deno.land/std@0.202.0/assert/assert_not_equals.ts (16/34)\n",
      "[info] Downloaded https://deno.land/std@0.202.0/assert/assert_not_instance_of.ts (17/34)\n",
      "[info] Downloaded https://deno.land/std@0.202.0/assert/assert_not_match.ts (18/34)\n",
      "[info] Downloaded https://deno.land/std@0.202.0/assert/assert_not_strict_equals.ts (19/34)\n",
      "[info] Downloaded https://deno.land/std@0.202.0/assert/assert_object_match.ts (20/34)\n",
      "[info] Downloaded https://deno.land/std@0.202.0/assert/assert_rejects.ts (21/34)\n",
      "[info] Downloaded https://deno.land/std@0.202.0/assert/assert_strict_equals.ts (22/34)\n",
      "[info] Downloaded https://deno.land/std@0.202.0/assert/assert_string_includes.ts (23/34)\n",
      "[info] Downloaded https://deno.land/std@0.202.0/assert/assert_throws.ts (24/34)\n",
      "[info] Downloaded https://deno.land/std@0.202.0/assert/assert.ts (25/34)\n",
      "[info] Downloaded https://deno.land/std@0.202.0/assert/assertion_error.ts (26/34)\n",
      "[info] Downloaded https://deno.land/std@0.202.0/assert/equal.ts (27/34)\n",
      "[info] Downloaded https://deno.land/std@0.202.0/assert/fail.ts (28/34)\n",
      "[info] Downloaded https://deno.land/std@0.202.0/assert/unimplemented.ts (29/34)\n",
      "[info] Downloaded https://deno.land/std@0.202.0/assert/unreachable.ts (30/34)\n",
      "[info] Downloaded https://deno.land/std@0.202.0/assert/_format.ts (31/34)\n",
      "[info] Downloaded https://deno.land/std@0.202.0/fmt/colors.ts (32/34)\n",
      "[info] Downloaded https://deno.land/std@0.202.0/assert/_diff.ts (33/34)\n",
      "[info] Downloaded https://deno.land/std@0.202.0/assert/_constants.ts (34/34)\n",
      "[info] Packaging complete\n",
      "[info] Deployed to sad-rhino-75-rn3mjpwsw24d.deno.dev\n"
     ]
    }
   ],
   "source": [
    "import { DelimiterStream } from \"https://deno.land/std@0.202.0/streams/delimiter_stream.ts\";\n",
    "\n",
    "const res = await fetch(\n",
    "  `https://api.deno.com/v1/deployments/${deployment.id}/build_logs`,\n",
    "  {\n",
    "    method: \"GET\",\n",
    "    headers: {\n",
    "      authorization: `Bearer ${token}`,\n",
    "      // The endpoint supports two different formats: `application/json` and\n",
    "      // `application/x-ndjson`; the latter is easier to parse incrementally.\n",
    "      accept: \"application/x-ndjson\",\n",
    "    },\n",
    "  },\n",
    ");\n",
    "assert(res.ok);\n",
    "\n",
    "const lines = res.body!\n",
    "  .pipeThrough(new DelimiterStream(new TextEncoder().encode(\"\\n\")))\n",
    "  .pipeThrough(new TextDecoderStream());\n",
    "\n",
    "for await (const line of lines) {\n",
    "  const logEntry: BuildLogEntry = JSON.parse(line);\n",
    "  console.log(`[${logEntry.level}] ${logEntry.message}`);\n",
    "}"
   ]
  },
  {
   "cell_type": "markdown",
   "metadata": {},
   "source": [
    "### 3. Obtain deployment metadata\n",
    "\n",
    "Once the build is completed, the deployment's status will change to `success`, and a deno.dev domain will be automatically assigned to it."
   ]
  },
  {
   "cell_type": "code",
   "execution_count": 1,
   "metadata": {},
   "outputs": [
    {
     "data": {},
     "execution_count": 1,
     "metadata": {},
     "output_type": "execute_result"
    },
    {
     "name": "stdout",
     "output_type": "stream",
     "text": [
      "{\n",
      "  id: \"rn3mjpwsw24d\",\n",
      "  projectId: \"d798575b-b81b-40b8-b87c-184b382e2b9e\",\n",
      "  status: \"success\",\n",
      "  domains: [ \"sad-rhino-75-rn3mjpwsw24d.deno.dev\" ],\n",
      "  createdAt: \"2023-09-22T05:54:38.007146Z\",\n",
      "  updatedAt: \"2023-09-22T05:54:43.720061Z\"\n",
      "}\n"
     ]
    }
   ],
   "source": [
    "const res = await fetch(\n",
    "  `https://api.deno.com/v1/deployments/${deployment.id}`,\n",
    "  {\n",
    "    method: \"GET\",\n",
    "    headers: {\n",
    "      authorization: `Bearer ${token}`,\n",
    "    },\n",
    "  },\n",
    ");\n",
    "assert(res.ok);\n",
    "\n",
    "const deployment2: Deployment = await res.json();\n",
    "console.log(deployment2);"
   ]
  },
  {
   "cell_type": "markdown",
   "metadata": {},
   "source": [
    "# Link a custom domain to your account\n",
    "\n",
    "The next section outlines how to perform domain-related operations:\n",
    "  * Link a domain name to your account\n",
    "  * Verify that you own the domain name\n",
    "  * Provision TLS certificates\n",
    "\n",
    "### 1. Link a domain\n"
   ]
  },
  {
   "cell_type": "code",
   "execution_count": 1,
   "metadata": {},
   "outputs": [
    {
     "data": {},
     "execution_count": 1,
     "metadata": {},
     "output_type": "execute_result"
    },
    {
     "name": "stdout",
     "output_type": "stream",
     "text": [
      "{\n",
      "  id: \"8302bc00-0fe3-4416-a190-ead9b48d9ce9\",\n",
      "  domain: \"deploy-sample1.maguro.me\",\n",
      "  token: \"6a30d42ce0da4d5013b5e39c\",\n",
      "  isValidated: false,\n",
      "  certificates: [],\n",
      "  provisioningStatus: { code: \"pending\" },\n",
      "  projectId: \"df5c078b-4639-40c3-b3b7-ca05e81edb89\",\n",
      "  createdAt: \"2023-09-04T01:54:28.199638Z\",\n",
      "  updatedAt: \"2023-09-05T00:26:15.284119Z\",\n",
      "  dnsRecords: [\n",
      "    { type: \"A\", name: \"deploy-sample1\", content: \"34.120.54.55\" },\n",
      "    {\n",
      "      type: \"AAAA\",\n",
      "      name: \"deploy-sample1\",\n",
      "      content: \"2600:1901:0:6d85::\"\n",
      "    },\n",
      "    {\n",
      "      type: \"CNAME\",\n",
      "      name: \"_acme-challenge.deploy-sample1\",\n",
      "      content: \"6a30d42ce0da4d5013b5e39c._acme.deno.dev.\"\n",
      "    }\n",
      "  ]\n",
      "}\n"
     ]
    }
   ],
   "source": [
    "const res = await fetch(\n",
    "  `https://api.deno.com/v1/organizations/${organizationId}/domains`,\n",
    "  {\n",
    "    method: \"POST\",\n",
    "    headers: {\n",
    "      authorization: `Bearer ${token}`,\n",
    "      \"content-type\": \"application/json\",\n",
    "    },\n",
    "    body: JSON.stringify(\n",
    "      {\n",
    "        // Replace with a domain you own!\n",
    "        \"domain\": \"deploy-sample1.maguro.me\",\n",
    "      } satisfies CreateDomainRequest,\n",
    "    ),\n",
    "  },\n",
    ");\n",
    "assert(res.ok);\n",
    "\n",
    "const domain: Domain = await res.json();\n",
    "console.log(domain);"
   ]
  },
  {
   "cell_type": "markdown",
   "metadata": {},
   "source": [
    "### 2. Verify the domain ownership\n",
    "\n",
    "Once you linked your domain, Deno Deploy needs to verify that you are the owner of the domain. You can do so by following these steps:\n",
    "\n",
    "- Retrieve the `dnsRecords` field from the resonse body of the API call above. Notice that it includes three values: type `A`, `AAAA`, and `CNAME`.\n",
    "- Add these DNS records to the DNS provider you're using for this domain. Here's my setting on Cloudflare dashboard:\n",
    "![How I configured DNS records on Cloudflare dashboard](https://github.com/magurotuna/zig-deque/assets/23649474/5bfeaafc-58c0-46fa-857c-ec33fdf3f3a8)\n",
    "- Call the API to get Deploy to verify the expected records are set:"
   ]
  },
  {
   "cell_type": "code",
   "execution_count": null,
   "metadata": {},
   "outputs": [],
   "source": [
    "const res = await fetch(\n",
    "  `https://api.deno.com/v1/domains/${domain.id}/verify`,\n",
    "  {\n",
    "    method: \"POST\",\n",
    "    headers: {\n",
    "      authorization: `Bearer ${token}`,\n",
    "    },\n",
    "  },\n",
    ");\n",
    "assert(res.ok);"
   ]
  },
  {
   "cell_type": "markdown",
   "metadata": {},
   "source": [
    "### 3. Provision TLS certificates\n",
    "\n",
    "Now it's verified that you are the owner of the domain. Final step is to provision TLS certificates for the domain. You can either upload the certificates you prepared somehow, or just leave the certificates preparation to Deploy. Here we will demonstrate the latter, auto-provisioning capability.\n",
    "\n",
    "All you have to do is to call `POST /v1/domains/:domainId/certificates/provision` which triggers the auto-provisioning step for the specified domain."
   ]
  },
  {
   "cell_type": "code",
   "execution_count": null,
   "metadata": {},
   "outputs": [],
   "source": [
    "// This call may take a while, up to a minute or so.\n",
    "const res = await fetch(\n",
    "  `https://api.deno.com/v1/domains/${domain.id}/certificates/provision`,\n",
    "  {\n",
    "    method: \"POST\",\n",
    "    headers: {\n",
    "      authorization: `Bearer ${token}`,\n",
    "    },\n",
    "  },\n",
    ");\n",
    "assert(res.ok);"
   ]
  },
  {
   "cell_type": "markdown",
   "metadata": {},
   "source": [
    "Just to make sure, let's call `GET /v1/domains/:domainId` to see the current state of the domain."
   ]
  },
  {
   "cell_type": "code",
   "execution_count": 1,
   "metadata": {},
   "outputs": [
    {
     "data": {},
     "execution_count": 1,
     "metadata": {},
     "output_type": "execute_result"
    },
    {
     "name": "stdout",
     "output_type": "stream",
     "text": [
      "{\n",
      "  id: \"8302bc00-0fe3-4416-a190-ead9b48d9ce9\",\n",
      "  domain: \"deploy-sample1.maguro.me\",\n",
      "  token: \"6a30d42ce0da4d5013b5e39c\",\n",
      "  isValidated: true,\n",
      "  certificates: [\n",
      "    {\n",
      "      cipher: \"rsa\",\n",
      "      expiresAt: \"2023-12-03T23:26:38.445898Z\",\n",
      "      createdAt: \"2023-09-05T00:26:40.449996Z\",\n",
      "      updatedAt: \"2023-09-05T00:26:40.449996Z\"\n",
      "    },\n",
      "    {\n",
      "      cipher: \"ec\",\n",
      "      expiresAt: \"2023-12-03T23:26:39.992532Z\",\n",
      "      createdAt: \"2023-09-05T00:26:41.995657Z\",\n",
      "      updatedAt: \"2023-09-05T00:26:41.995657Z\"\n",
      "    }\n",
      "  ],\n",
      "  provisioningStatus: { code: \"success\" },\n",
      "  projectId: \"df5c078b-4639-40c3-b3b7-ca05e81edb89\",\n",
      "  createdAt: \"2023-09-04T01:54:28.199638Z\",\n",
      "  updatedAt: \"2023-09-05T00:26:15.284119Z\",\n",
      "  dnsRecords: [\n",
      "    { type: \"A\", name: \"deploy-sample1\", content: \"34.120.54.55\" },\n",
      "    {\n",
      "      type: \"AAAA\",\n",
      "      name: \"deploy-sample1\",\n",
      "      content: \"2600:1901:0:6d85::\"\n",
      "    },\n",
      "    {\n",
      "      type: \"CNAME\",\n",
      "      name: \"_acme-challenge.deploy-sample1\",\n",
      "      content: \"6a30d42ce0da4d5013b5e39c._acme.deno.dev.\"\n",
      "    }\n",
      "  ]\n",
      "}\n"
     ]
    }
   ],
   "source": [
    "const res = await fetch(\n",
    "  `https://api.deno.com/v1/domains/${domain.id}`,\n",
    "  {\n",
    "    method: \"GET\",\n",
    "    headers: {\n",
    "      authorization: `Bearer ${token}`,\n",
    "    },\n",
    "  },\n",
    ");\n",
    "assert(res.ok);\n",
    "\n",
    "const domain: Domain = await res.json();\n",
    "console.log(domain);"
   ]
  },
  {
   "cell_type": "markdown",
   "metadata": {},
   "source": [
    "# Associate the custom domain with the deployment\n",
    "\n",
    "Although the domain setup has completed, it is of no use until it gets connected to an actual deployment. We accomplish it by calling `PATCH /v1/domains/:domainId`."
   ]
  },
  {
   "cell_type": "code",
   "execution_count": null,
   "metadata": {},
   "outputs": [],
   "source": [
    "const res = await fetch(\n",
    "  `https://api.deno.com/v1/domains/${domain.id}`,\n",
    "  {\n",
    "    method: \"PATCH\",\n",
    "    headers: {\n",
    "      authorization: `Bearer ${token}`,\n",
    "      \"content-type\": \"application/json\",\n",
    "    },\n",
    "    body: JSON.stringify(\n",
    "      {\n",
    "        \"deploymentId\": deployment.id,\n",
    "      } satisfies UpdateDomainAssociationRequest,\n",
    "    ),\n",
    "  },\n",
    ");\n",
    "assert(res.ok);"
   ]
  },
  {
   "cell_type": "markdown",
   "metadata": {},
   "source": [
    "Now you can confirm that your deployment is reachable using your own domain. Here's the result of `curl` in my case:\n",
    "\n",
    "```sh\n",
    "❯ curl --include 'https://deploy-sample1.maguro.me'\n",
    "HTTP/2 200\n",
    "content-type: text/plain;charset=UTF-8\n",
    "vary: Accept-Encoding\n",
    "date: Thu, 21 Sep 2023 10:51:34 GMT\n",
    "content-length: 11\n",
    "via: http/2 edgeproxy\n",
    "server: deno/gcp-asia-northeast1\n",
    "\n",
    "Hello World%\n",
    "```"
   ]
  },
  {
   "cell_type": "markdown",
   "metadata": {},
   "source": [
    "# Appendix\n",
    "\n",
    "Here is a list of types used in the sample code snippets above."
   ]
  },
  {
   "cell_type": "code",
   "execution_count": null,
   "metadata": {},
   "outputs": [],
   "source": [
    "type CreateProjectRequest = {\n",
    "  name: string | null;\n",
    "};\n",
    "\n",
    "type Project = {\n",
    "  id: string;\n",
    "  name: string;\n",
    "  organizationId: string;\n",
    "  createdAt: string;\n",
    "  updatedAt: string;\n",
    "};\n",
    "\n",
    "type CreateDeploymentRequest = {\n",
    "  entryPointUrl: string;\n",
    "  importMapUrl?: string | null;\n",
    "  lockFileUrl?: string | null;\n",
    "  compilerOptions?: CompilerOptions | null;\n",
    "  assets: Record<string, Asset>;\n",
    "  envVars: Record<string, string>;\n",
    "};\n",
    "\n",
    "type CompilerOptions = {\n",
    "  jsx?: string | null;\n",
    "  jsxFactory?: string | null;\n",
    "  jsxFragmentFactory?: string | null;\n",
    "  jsxImportSource?: string | null;\n",
    "};\n",
    "\n",
    "type Asset = FileAsset | SymlinkAsset;\n",
    "\n",
    "type FileAsset = FileContent | FileHash;\n",
    "\n",
    "type FileContent = {\n",
    "  kind: \"file\";\n",
    "  content: string;\n",
    "  encoding?: \"utf-8\" | \"base64\";\n",
    "};\n",
    "\n",
    "type FileHash = {\n",
    "  kind: \"file\";\n",
    "  gitSha1: string;\n",
    "};\n",
    "\n",
    "type SymlinkAsset = {\n",
    "  kind: \"symlink\";\n",
    "  target: string;\n",
    "};\n",
    "\n",
    "type Deployment = {\n",
    "  id: string;\n",
    "  projectId: string;\n",
    "  status: \"failed\" | \"pending\" | \"success\";\n",
    "  domains?: string[];\n",
    "  createdAt: string;\n",
    "  updatedAt: string;\n",
    "};\n",
    "\n",
    "type BuildLogEntry = {\n",
    "  level: string;\n",
    "  message: string;\n",
    "};\n",
    "\n",
    "type CreateDomainRequest = {\n",
    "  domain: string;\n",
    "};\n",
    "\n",
    "type Domain = {\n",
    "  id: string;\n",
    "  organizationId: string;\n",
    "  domain: string;\n",
    "  token: string;\n",
    "  isValidated: boolean;\n",
    "  certificates: Certificate[];\n",
    "  provisioningStatus: ProvisioningStatus;\n",
    "  projectId: string | null;\n",
    "  createdAt: string;\n",
    "  updatedAt: string;\n",
    "  dnsRecords: DnsRecord[];\n",
    "};\n",
    "\n",
    "type ProvisioningStatus = \n",
    "  | { code:  \"pending\" } \n",
    "  | { code: \"success\" } \n",
    "  | { code: \"failed\", message: string } \n",
    "  | { code: \"manual\" };\n",
    "\n",
    "type Certificate = {\n",
    "  cipher: \"ec\" | \"rsa\";\n",
    "  expiresAt: string;\n",
    "  createdAt: string;\n",
    "  updatedAt: string;\n",
    "};\n",
    "\n",
    "type DnsRecord = {\n",
    "  type: string;\n",
    "  name: string;\n",
    "  content: string;\n",
    "};\n",
    "\n",
    "type UpdateDomainAssociationRequest = {\n",
    "  deploymentId: string | null;\n",
    "};"
   ]
  }
 ],
 "metadata": {
  "kernelspec": {
   "display_name": "Deno",
   "language": "typescript",
   "name": "deno"
  },
  "language_info": {
   "file_extension": ".ts",
   "mimetype": "text/x.typescript",
   "name": "typescript",
   "nb_converter": "script",
   "pygments_lexer": "typescript",
   "version": "5.2.2"
  },
  "orig_nbformat": 4
 },
 "nbformat": 4,
 "nbformat_minor": 2
}
